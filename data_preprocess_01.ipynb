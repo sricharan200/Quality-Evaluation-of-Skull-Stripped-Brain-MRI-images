{
 "cells": [
  {
   "cell_type": "code",
   "execution_count": 35,
   "metadata": {},
   "outputs": [],
   "source": [
    "import nibabel as nib\n",
    "import pandas as pd\n",
    "import matplotlib.pyplot as plt\n",
    "import numpy as np\n",
    "import pickle"
   ]
  },
  {
   "cell_type": "code",
   "execution_count": 36,
   "metadata": {},
   "outputs": [],
   "source": [
    "start_path = 'DATA/BET_BSE_DATA/'"
   ]
  },
  {
   "cell_type": "code",
   "execution_count": 37,
   "metadata": {},
   "outputs": [
    {
     "data": {
      "text/html": [
       "<div>\n",
       "<style scoped>\n",
       "    .dataframe tbody tr th:only-of-type {\n",
       "        vertical-align: middle;\n",
       "    }\n",
       "\n",
       "    .dataframe tbody tr th {\n",
       "        vertical-align: top;\n",
       "    }\n",
       "\n",
       "    .dataframe thead th {\n",
       "        text-align: right;\n",
       "    }\n",
       "</style>\n",
       "<table border=\"1\" class=\"dataframe\">\n",
       "  <thead>\n",
       "    <tr style=\"text-align: right;\">\n",
       "      <th></th>\n",
       "      <th>Filename</th>\n",
       "      <th>Recognizable-Facial-Feature</th>\n",
       "      <th>Brain-Feature-Loss</th>\n",
       "    </tr>\n",
       "  </thead>\n",
       "  <tbody>\n",
       "    <tr>\n",
       "      <th>0</th>\n",
       "      <td>IXI369-Guys-0924-T1_bet_03.nii</td>\n",
       "      <td>Yes</td>\n",
       "      <td>No</td>\n",
       "    </tr>\n",
       "    <tr>\n",
       "      <th>1</th>\n",
       "      <td>IXI448-HH-2393-T1_bet_07.nii</td>\n",
       "      <td>Yes</td>\n",
       "      <td>No</td>\n",
       "    </tr>\n",
       "    <tr>\n",
       "      <th>2</th>\n",
       "      <td>IXI252-HH-1693-T1_bet_08.nii</td>\n",
       "      <td>Yes</td>\n",
       "      <td>No</td>\n",
       "    </tr>\n",
       "    <tr>\n",
       "      <th>3</th>\n",
       "      <td>IXI188-Guys-0798-T1_bet_17.nii</td>\n",
       "      <td>Yes</td>\n",
       "      <td>No</td>\n",
       "    </tr>\n",
       "    <tr>\n",
       "      <th>4</th>\n",
       "      <td>IXI182-Guys-0792-T1_bet_17.nii</td>\n",
       "      <td>Yes</td>\n",
       "      <td>No</td>\n",
       "    </tr>\n",
       "  </tbody>\n",
       "</table>\n",
       "</div>"
      ],
      "text/plain": [
       "                         Filename Recognizable-Facial-Feature  \\\n",
       "0  IXI369-Guys-0924-T1_bet_03.nii                         Yes   \n",
       "1    IXI448-HH-2393-T1_bet_07.nii                         Yes   \n",
       "2    IXI252-HH-1693-T1_bet_08.nii                         Yes   \n",
       "3  IXI188-Guys-0798-T1_bet_17.nii                         Yes   \n",
       "4  IXI182-Guys-0792-T1_bet_17.nii                         Yes   \n",
       "\n",
       "  Brain-Feature-Loss  \n",
       "0                 No  \n",
       "1                 No  \n",
       "2                 No  \n",
       "3                 No  \n",
       "4                 No  "
      ]
     },
     "execution_count": 37,
     "metadata": {},
     "output_type": "execute_result"
    }
   ],
   "source": [
    "data = pd.read_csv(start_path+'Label_file.csv')\n",
    "\n",
    "data.head()"
   ]
  },
  {
   "cell_type": "code",
   "execution_count": 38,
   "metadata": {},
   "outputs": [
    {
     "data": {
      "text/plain": [
       "Yes    692\n",
       "No     619\n",
       "Name: Recognizable-Facial-Feature, dtype: int64"
      ]
     },
     "execution_count": 38,
     "metadata": {},
     "output_type": "execute_result"
    }
   ],
   "source": [
    "# Split data into two sets, one for each output variable\n",
    "df_recognize = data.iloc[: , :-1]\n",
    "df_brainLoss = data.drop('Recognizable-Facial-Feature', axis=1)\n",
    "\n",
    "df_recognize['Recognizable-Facial-Feature'].value_counts()"
   ]
  },
  {
   "cell_type": "code",
   "execution_count": 39,
   "metadata": {},
   "outputs": [
    {
     "data": {
      "text/plain": [
       "No     707\n",
       "Yes    604\n",
       "Name: Brain-Feature-Loss, dtype: int64"
      ]
     },
     "execution_count": 39,
     "metadata": {},
     "output_type": "execute_result"
    }
   ],
   "source": [
    "df_brainLoss['Brain-Feature-Loss'].value_counts()"
   ]
  },
  {
   "cell_type": "markdown",
   "metadata": {},
   "source": [
    "Both classes are fairly balanced\n",
    "\n",
    "\n",
    "## Helper Functions"
   ]
  },
  {
   "cell_type": "code",
   "execution_count": 40,
   "metadata": {},
   "outputs": [],
   "source": [
    "from scipy import ndimage\n",
    "\n",
    "# Read nifti file\n",
    "def read_nifti_file(filepath):\n",
    "    \"\"\"Read and load volume\"\"\"\n",
    "    # Read file\n",
    "    scan = nib.load(filepath).get_fdata()\n",
    "    return scan\n",
    "\n",
    "\n",
    "# Normalize using min-max normalization\n",
    "def normalize(volume):\n",
    "    \"\"\"Normalize the volume\"\"\"\n",
    "    min = -1000\n",
    "    max = 400\n",
    "    volume[volume < min] = min\n",
    "    volume[volume > max] = max\n",
    "    volume = (volume - min) / (max - min)\n",
    "    return volume.astype(\"float32\")\n",
    "\n",
    "\n",
    "# Resize image to standard size for all of them\n",
    "def resize_volume(img):\n",
    "    depth_factor = 1 / (img.shape[-1] / 64)\n",
    "    width_factor = 1 / (img.shape[0] / 128)\n",
    "    height_factor = 1 / (img.shape[1] / 128)\n",
    "    # Rotate\n",
    "    img = ndimage.rotate(img, 90, reshape=False)\n",
    "    # Resize across z-axis\n",
    "    img = ndimage.zoom(img, (width_factor, height_factor, depth_factor), order=1)\n",
    "    return img\n",
    "\n",
    "\n",
    "# All 3 functions above put in one\n",
    "def process_scan(path):\n",
    "    \"\"\"Read and resize volume\"\"\"\n",
    "    # Read scan\n",
    "    volume = read_nifti_file(path)\n",
    "    # Normalize\n",
    "    volume = normalize(volume)\n",
    "    # Resize width, height and depth\n",
    "    volume = resize_volume(volume)\n",
    "    return volume"
   ]
  },
  {
   "cell_type": "code",
   "execution_count": 41,
   "metadata": {},
   "outputs": [
    {
     "data": {
      "text/html": [
       "<div>\n",
       "<style scoped>\n",
       "    .dataframe tbody tr th:only-of-type {\n",
       "        vertical-align: middle;\n",
       "    }\n",
       "\n",
       "    .dataframe tbody tr th {\n",
       "        vertical-align: top;\n",
       "    }\n",
       "\n",
       "    .dataframe thead th {\n",
       "        text-align: right;\n",
       "    }\n",
       "</style>\n",
       "<table border=\"1\" class=\"dataframe\">\n",
       "  <thead>\n",
       "    <tr style=\"text-align: right;\">\n",
       "      <th></th>\n",
       "      <th>Filename</th>\n",
       "      <th>Recognizable-Facial-Feature</th>\n",
       "    </tr>\n",
       "  </thead>\n",
       "  <tbody>\n",
       "    <tr>\n",
       "      <th>0</th>\n",
       "      <td>IXI369-Guys-0924-T1_bet_03.nii</td>\n",
       "      <td>Yes</td>\n",
       "    </tr>\n",
       "    <tr>\n",
       "      <th>1</th>\n",
       "      <td>IXI448-HH-2393-T1_bet_07.nii</td>\n",
       "      <td>Yes</td>\n",
       "    </tr>\n",
       "    <tr>\n",
       "      <th>2</th>\n",
       "      <td>IXI252-HH-1693-T1_bet_08.nii</td>\n",
       "      <td>Yes</td>\n",
       "    </tr>\n",
       "    <tr>\n",
       "      <th>3</th>\n",
       "      <td>IXI188-Guys-0798-T1_bet_17.nii</td>\n",
       "      <td>Yes</td>\n",
       "    </tr>\n",
       "    <tr>\n",
       "      <th>4</th>\n",
       "      <td>IXI182-Guys-0792-T1_bet_17.nii</td>\n",
       "      <td>Yes</td>\n",
       "    </tr>\n",
       "  </tbody>\n",
       "</table>\n",
       "</div>"
      ],
      "text/plain": [
       "                         Filename Recognizable-Facial-Feature\n",
       "0  IXI369-Guys-0924-T1_bet_03.nii                         Yes\n",
       "1    IXI448-HH-2393-T1_bet_07.nii                         Yes\n",
       "2    IXI252-HH-1693-T1_bet_08.nii                         Yes\n",
       "3  IXI188-Guys-0798-T1_bet_17.nii                         Yes\n",
       "4  IXI182-Guys-0792-T1_bet_17.nii                         Yes"
      ]
     },
     "execution_count": 41,
     "metadata": {},
     "output_type": "execute_result"
    }
   ],
   "source": [
    "df_recognize.head()"
   ]
  },
  {
   "cell_type": "code",
   "execution_count": 42,
   "metadata": {},
   "outputs": [
    {
     "data": {
      "text/html": [
       "<div>\n",
       "<style scoped>\n",
       "    .dataframe tbody tr th:only-of-type {\n",
       "        vertical-align: middle;\n",
       "    }\n",
       "\n",
       "    .dataframe tbody tr th {\n",
       "        vertical-align: top;\n",
       "    }\n",
       "\n",
       "    .dataframe thead th {\n",
       "        text-align: right;\n",
       "    }\n",
       "</style>\n",
       "<table border=\"1\" class=\"dataframe\">\n",
       "  <thead>\n",
       "    <tr style=\"text-align: right;\">\n",
       "      <th></th>\n",
       "      <th>Filename</th>\n",
       "      <th>Recognizable-Facial-Feature</th>\n",
       "    </tr>\n",
       "  </thead>\n",
       "  <tbody>\n",
       "    <tr>\n",
       "      <th>1306</th>\n",
       "      <td>IXI477-IOP-1141-T1_bse_default.nii</td>\n",
       "      <td>Yes</td>\n",
       "    </tr>\n",
       "    <tr>\n",
       "      <th>1307</th>\n",
       "      <td>IXI573-IOP-1155-T1_bse_default.nii</td>\n",
       "      <td>Yes</td>\n",
       "    </tr>\n",
       "    <tr>\n",
       "      <th>1308</th>\n",
       "      <td>IXI483-HH-2177-T1_bse_default.nii</td>\n",
       "      <td>No</td>\n",
       "    </tr>\n",
       "    <tr>\n",
       "      <th>1309</th>\n",
       "      <td>IXI159-HH-1549-T1_bse_default.nii</td>\n",
       "      <td>Yes</td>\n",
       "    </tr>\n",
       "    <tr>\n",
       "      <th>1310</th>\n",
       "      <td>IXI470-IOP-1030-T1_bse_default.nii</td>\n",
       "      <td>Yes</td>\n",
       "    </tr>\n",
       "  </tbody>\n",
       "</table>\n",
       "</div>"
      ],
      "text/plain": [
       "                                Filename Recognizable-Facial-Feature\n",
       "1306  IXI477-IOP-1141-T1_bse_default.nii                         Yes\n",
       "1307  IXI573-IOP-1155-T1_bse_default.nii                         Yes\n",
       "1308   IXI483-HH-2177-T1_bse_default.nii                          No\n",
       "1309   IXI159-HH-1549-T1_bse_default.nii                         Yes\n",
       "1310  IXI470-IOP-1030-T1_bse_default.nii                         Yes"
      ]
     },
     "execution_count": 42,
     "metadata": {},
     "output_type": "execute_result"
    }
   ],
   "source": [
    "df_recognize.tail()"
   ]
  },
  {
   "cell_type": "code",
   "execution_count": 43,
   "metadata": {},
   "outputs": [
    {
     "data": {
      "text/html": [
       "<div>\n",
       "<style scoped>\n",
       "    .dataframe tbody tr th:only-of-type {\n",
       "        vertical-align: middle;\n",
       "    }\n",
       "\n",
       "    .dataframe tbody tr th {\n",
       "        vertical-align: top;\n",
       "    }\n",
       "\n",
       "    .dataframe thead th {\n",
       "        text-align: right;\n",
       "    }\n",
       "</style>\n",
       "<table border=\"1\" class=\"dataframe\">\n",
       "  <thead>\n",
       "    <tr style=\"text-align: right;\">\n",
       "      <th></th>\n",
       "      <th>Filename</th>\n",
       "      <th>Brain-Feature-Loss</th>\n",
       "    </tr>\n",
       "  </thead>\n",
       "  <tbody>\n",
       "    <tr>\n",
       "      <th>0</th>\n",
       "      <td>IXI369-Guys-0924-T1_bet_03.nii</td>\n",
       "      <td>No</td>\n",
       "    </tr>\n",
       "    <tr>\n",
       "      <th>1</th>\n",
       "      <td>IXI448-HH-2393-T1_bet_07.nii</td>\n",
       "      <td>No</td>\n",
       "    </tr>\n",
       "    <tr>\n",
       "      <th>2</th>\n",
       "      <td>IXI252-HH-1693-T1_bet_08.nii</td>\n",
       "      <td>No</td>\n",
       "    </tr>\n",
       "    <tr>\n",
       "      <th>3</th>\n",
       "      <td>IXI188-Guys-0798-T1_bet_17.nii</td>\n",
       "      <td>No</td>\n",
       "    </tr>\n",
       "    <tr>\n",
       "      <th>4</th>\n",
       "      <td>IXI182-Guys-0792-T1_bet_17.nii</td>\n",
       "      <td>No</td>\n",
       "    </tr>\n",
       "  </tbody>\n",
       "</table>\n",
       "</div>"
      ],
      "text/plain": [
       "                         Filename Brain-Feature-Loss\n",
       "0  IXI369-Guys-0924-T1_bet_03.nii                 No\n",
       "1    IXI448-HH-2393-T1_bet_07.nii                 No\n",
       "2    IXI252-HH-1693-T1_bet_08.nii                 No\n",
       "3  IXI188-Guys-0798-T1_bet_17.nii                 No\n",
       "4  IXI182-Guys-0792-T1_bet_17.nii                 No"
      ]
     },
     "execution_count": 43,
     "metadata": {},
     "output_type": "execute_result"
    }
   ],
   "source": [
    "df_brainLoss.head()"
   ]
  },
  {
   "cell_type": "code",
   "execution_count": 44,
   "metadata": {},
   "outputs": [
    {
     "data": {
      "text/html": [
       "<div>\n",
       "<style scoped>\n",
       "    .dataframe tbody tr th:only-of-type {\n",
       "        vertical-align: middle;\n",
       "    }\n",
       "\n",
       "    .dataframe tbody tr th {\n",
       "        vertical-align: top;\n",
       "    }\n",
       "\n",
       "    .dataframe thead th {\n",
       "        text-align: right;\n",
       "    }\n",
       "</style>\n",
       "<table border=\"1\" class=\"dataframe\">\n",
       "  <thead>\n",
       "    <tr style=\"text-align: right;\">\n",
       "      <th></th>\n",
       "      <th>Filename</th>\n",
       "      <th>Brain-Feature-Loss</th>\n",
       "    </tr>\n",
       "  </thead>\n",
       "  <tbody>\n",
       "    <tr>\n",
       "      <th>1306</th>\n",
       "      <td>IXI477-IOP-1141-T1_bse_default.nii</td>\n",
       "      <td>No</td>\n",
       "    </tr>\n",
       "    <tr>\n",
       "      <th>1307</th>\n",
       "      <td>IXI573-IOP-1155-T1_bse_default.nii</td>\n",
       "      <td>No</td>\n",
       "    </tr>\n",
       "    <tr>\n",
       "      <th>1308</th>\n",
       "      <td>IXI483-HH-2177-T1_bse_default.nii</td>\n",
       "      <td>Yes</td>\n",
       "    </tr>\n",
       "    <tr>\n",
       "      <th>1309</th>\n",
       "      <td>IXI159-HH-1549-T1_bse_default.nii</td>\n",
       "      <td>No</td>\n",
       "    </tr>\n",
       "    <tr>\n",
       "      <th>1310</th>\n",
       "      <td>IXI470-IOP-1030-T1_bse_default.nii</td>\n",
       "      <td>No</td>\n",
       "    </tr>\n",
       "  </tbody>\n",
       "</table>\n",
       "</div>"
      ],
      "text/plain": [
       "                                Filename Brain-Feature-Loss\n",
       "1306  IXI477-IOP-1141-T1_bse_default.nii                 No\n",
       "1307  IXI573-IOP-1155-T1_bse_default.nii                 No\n",
       "1308   IXI483-HH-2177-T1_bse_default.nii                Yes\n",
       "1309   IXI159-HH-1549-T1_bse_default.nii                 No\n",
       "1310  IXI470-IOP-1030-T1_bse_default.nii                 No"
      ]
     },
     "execution_count": 44,
     "metadata": {},
     "output_type": "execute_result"
    }
   ],
   "source": [
    "df_brainLoss.tail()"
   ]
  },
  {
   "cell_type": "code",
   "execution_count": 45,
   "metadata": {},
   "outputs": [],
   "source": [
    "# Grab paths to each image file\n",
    "from glob import glob\n",
    "\n",
    "image_file_paths = glob(start_path+'files/*')"
   ]
  },
  {
   "cell_type": "code",
   "execution_count": 46,
   "metadata": {},
   "outputs": [
    {
     "data": {
      "text/plain": [
       "'DATA/BET_BSE_DATA/files/IXI088-Guys-0758-T1_bse_less_s46_r1.nii.gz'"
      ]
     },
     "execution_count": 46,
     "metadata": {},
     "output_type": "execute_result"
    }
   ],
   "source": [
    "# Check\n",
    "image_file_paths[0]"
   ]
  },
  {
   "cell_type": "markdown",
   "metadata": {},
   "source": [
    "===========================================================================================================================================\n",
    "\n",
    "Running **process_scan()** on our image files and storing the processed images into **np_data**"
   ]
  },
  {
   "cell_type": "code",
   "execution_count": 83,
   "metadata": {},
   "outputs": [],
   "source": [
    "# Make numpy array of processed data\n",
    "np_data = np.array([process_scan(path) for path in image_file_paths])"
   ]
  },
  {
   "cell_type": "code",
   "execution_count": 86,
   "metadata": {},
   "outputs": [
    {
     "data": {
      "text/plain": [
       "1311"
      ]
     },
     "execution_count": 86,
     "metadata": {},
     "output_type": "execute_result"
    }
   ],
   "source": [
    "len(image_file_paths)"
   ]
  },
  {
   "cell_type": "code",
   "execution_count": 85,
   "metadata": {},
   "outputs": [
    {
     "data": {
      "text/plain": [
       "1311"
      ]
     },
     "execution_count": 85,
     "metadata": {},
     "output_type": "execute_result"
    }
   ],
   "source": [
    "len(np_data)"
   ]
  },
  {
   "cell_type": "code",
   "execution_count": 87,
   "metadata": {},
   "outputs": [
    {
     "data": {
      "text/plain": [
       "array([[[0.        , 0.        , 0.        , ..., 0.        ,\n",
       "         0.        , 0.        ],\n",
       "        [0.71428573, 0.71428573, 0.71428573, ..., 0.71428573,\n",
       "         0.71428573, 0.71428573],\n",
       "        [0.71428573, 0.71428573, 0.71428573, ..., 0.71428573,\n",
       "         0.71428573, 0.71428573],\n",
       "        ...,\n",
       "        [0.        , 0.        , 0.        , ..., 0.        ,\n",
       "         0.        , 0.        ],\n",
       "        [0.        , 0.        , 0.        , ..., 0.        ,\n",
       "         0.        , 0.        ],\n",
       "        [0.        , 0.        , 0.        , ..., 0.        ,\n",
       "         0.        , 0.        ]],\n",
       "\n",
       "       [[0.        , 0.        , 0.        , ..., 0.        ,\n",
       "         0.        , 0.        ],\n",
       "        [0.71428573, 0.71428573, 0.71428573, ..., 0.71428573,\n",
       "         0.71428573, 0.71428573],\n",
       "        [0.71428573, 0.71428573, 0.71428573, ..., 0.71428573,\n",
       "         0.71428573, 0.71428573],\n",
       "        ...,\n",
       "        [0.71428573, 0.71428573, 0.71428573, ..., 0.71428573,\n",
       "         0.71428573, 0.71428573],\n",
       "        [0.71428573, 0.71428573, 0.71428573, ..., 0.71428573,\n",
       "         0.71428573, 0.71428573],\n",
       "        [0.71428573, 0.71428573, 0.71428573, ..., 0.71428573,\n",
       "         0.71428573, 0.71428573]],\n",
       "\n",
       "       [[0.        , 0.        , 0.        , ..., 0.        ,\n",
       "         0.        , 0.        ],\n",
       "        [0.71428573, 0.71428573, 0.71428573, ..., 0.71428573,\n",
       "         0.71428573, 0.71428573],\n",
       "        [0.71428573, 0.71428573, 0.71428573, ..., 0.71428573,\n",
       "         0.71428573, 0.71428573],\n",
       "        ...,\n",
       "        [0.71428573, 0.71428573, 0.71428573, ..., 0.71428573,\n",
       "         0.71428573, 0.71428573],\n",
       "        [0.71428573, 0.71428573, 0.71428573, ..., 0.71428573,\n",
       "         0.71428573, 0.71428573],\n",
       "        [0.71428573, 0.71428573, 0.71428573, ..., 0.71428573,\n",
       "         0.71428573, 0.71428573]],\n",
       "\n",
       "       ...,\n",
       "\n",
       "       [[0.71428573, 0.71428573, 0.71428573, ..., 0.71428573,\n",
       "         0.71428573, 0.71428573],\n",
       "        [0.71428573, 0.71428573, 0.71428573, ..., 0.71428573,\n",
       "         0.71428573, 0.71428573],\n",
       "        [0.71428573, 0.71428573, 0.71428573, ..., 0.71428573,\n",
       "         0.71428573, 0.71428573],\n",
       "        ...,\n",
       "        [0.71428573, 0.71428573, 0.71428573, ..., 0.71428573,\n",
       "         0.71428573, 0.71428573],\n",
       "        [0.71428573, 0.71428573, 0.71428573, ..., 0.71428573,\n",
       "         0.71428573, 0.71428573],\n",
       "        [0.71428573, 0.71428573, 0.71428573, ..., 0.71428573,\n",
       "         0.71428573, 0.71428573]],\n",
       "\n",
       "       [[0.71428573, 0.71428573, 0.71428573, ..., 0.71428573,\n",
       "         0.71428573, 0.71428573],\n",
       "        [0.71428573, 0.71428573, 0.71428573, ..., 0.71428573,\n",
       "         0.71428573, 0.71428573],\n",
       "        [0.71428573, 0.71428573, 0.71428573, ..., 0.71428573,\n",
       "         0.71428573, 0.71428573],\n",
       "        ...,\n",
       "        [0.71428573, 0.71428573, 0.71428573, ..., 0.71428573,\n",
       "         0.71428573, 0.71428573],\n",
       "        [0.71428573, 0.71428573, 0.71428573, ..., 0.71428573,\n",
       "         0.71428573, 0.71428573],\n",
       "        [0.71428573, 0.71428573, 0.71428573, ..., 0.71428573,\n",
       "         0.71428573, 0.71428573]],\n",
       "\n",
       "       [[0.71428573, 0.71428573, 0.71428573, ..., 0.71428573,\n",
       "         0.71428573, 0.71428573],\n",
       "        [0.71428573, 0.71428573, 0.71428573, ..., 0.71428573,\n",
       "         0.71428573, 0.71428573],\n",
       "        [0.71428573, 0.71428573, 0.71428573, ..., 0.71428573,\n",
       "         0.71428573, 0.71428573],\n",
       "        ...,\n",
       "        [0.71428573, 0.71428573, 0.71428573, ..., 0.71428573,\n",
       "         0.71428573, 0.71428573],\n",
       "        [0.71428573, 0.71428573, 0.71428573, ..., 0.71428573,\n",
       "         0.71428573, 0.71428573],\n",
       "        [0.71428573, 0.71428573, 0.71428573, ..., 0.71428573,\n",
       "         0.71428573, 0.71428573]]], dtype=float32)"
      ]
     },
     "execution_count": 87,
     "metadata": {},
     "output_type": "execute_result"
    }
   ],
   "source": [
    "np_data[0] #1st image file"
   ]
  },
  {
   "cell_type": "markdown",
   "metadata": {},
   "source": [
    "### Train - Test Split"
   ]
  },
  {
   "cell_type": "code",
   "execution_count": 88,
   "metadata": {},
   "outputs": [
    {
     "name": "stdout",
     "output_type": "stream",
     "text": [
      "Train Size:  918\n",
      "Test Size:  393\n"
     ]
    }
   ],
   "source": [
    "# Get train (70%) & test (30%) size\n",
    "\n",
    "print(\"Train Size: \", round(len(data) * 0.7))\n",
    "print(\"Test Size: \", round(len(data) * 0.3))"
   ]
  },
  {
   "cell_type": "code",
   "execution_count": 96,
   "metadata": {},
   "outputs": [],
   "source": [
    "data['Recognizable-Facial-Feature'] = data['Recognizable-Facial-Feature'].replace({'Yes': 1, 'No': 0})"
   ]
  },
  {
   "cell_type": "markdown",
   "metadata": {},
   "source": [
    "==========================================================================================================================================="
   ]
  },
  {
   "cell_type": "markdown",
   "metadata": {},
   "source": [
    "Problem. Need to assign X & y but the order of the files in the CSV file is not the same as the one in the directory where we grab the files from."
   ]
  },
  {
   "cell_type": "markdown",
   "metadata": {},
   "source": [
    "#### For df_recognize"
   ]
  },
  {
   "cell_type": "code",
   "execution_count": 53,
   "metadata": {},
   "outputs": [],
   "source": [
    "# For df_recognize \n",
    "YesScans_recognize = df_recognize[df_recognize['Recognizable-Facial-Feature'] == 'Yes']\n",
    "NoScans_recognize = df_recognize[df_recognize['Recognizable-Facial-Feature'] == 'No']"
   ]
  },
  {
   "cell_type": "code",
   "execution_count": 54,
   "metadata": {},
   "outputs": [
    {
     "data": {
      "text/html": [
       "<div>\n",
       "<style scoped>\n",
       "    .dataframe tbody tr th:only-of-type {\n",
       "        vertical-align: middle;\n",
       "    }\n",
       "\n",
       "    .dataframe tbody tr th {\n",
       "        vertical-align: top;\n",
       "    }\n",
       "\n",
       "    .dataframe thead th {\n",
       "        text-align: right;\n",
       "    }\n",
       "</style>\n",
       "<table border=\"1\" class=\"dataframe\">\n",
       "  <thead>\n",
       "    <tr style=\"text-align: right;\">\n",
       "      <th></th>\n",
       "      <th>Filename</th>\n",
       "      <th>Recognizable-Facial-Feature</th>\n",
       "    </tr>\n",
       "  </thead>\n",
       "  <tbody>\n",
       "    <tr>\n",
       "      <th>0</th>\n",
       "      <td>IXI369-Guys-0924-T1_bet_03.nii</td>\n",
       "      <td>Yes</td>\n",
       "    </tr>\n",
       "    <tr>\n",
       "      <th>1</th>\n",
       "      <td>IXI448-HH-2393-T1_bet_07.nii</td>\n",
       "      <td>Yes</td>\n",
       "    </tr>\n",
       "    <tr>\n",
       "      <th>2</th>\n",
       "      <td>IXI252-HH-1693-T1_bet_08.nii</td>\n",
       "      <td>Yes</td>\n",
       "    </tr>\n",
       "    <tr>\n",
       "      <th>3</th>\n",
       "      <td>IXI188-Guys-0798-T1_bet_17.nii</td>\n",
       "      <td>Yes</td>\n",
       "    </tr>\n",
       "    <tr>\n",
       "      <th>4</th>\n",
       "      <td>IXI182-Guys-0792-T1_bet_17.nii</td>\n",
       "      <td>Yes</td>\n",
       "    </tr>\n",
       "    <tr>\n",
       "      <th>...</th>\n",
       "      <td>...</td>\n",
       "      <td>...</td>\n",
       "    </tr>\n",
       "    <tr>\n",
       "      <th>1305</th>\n",
       "      <td>IXI293-IOP-0876-T1_bse_default.nii</td>\n",
       "      <td>Yes</td>\n",
       "    </tr>\n",
       "    <tr>\n",
       "      <th>1306</th>\n",
       "      <td>IXI477-IOP-1141-T1_bse_default.nii</td>\n",
       "      <td>Yes</td>\n",
       "    </tr>\n",
       "    <tr>\n",
       "      <th>1307</th>\n",
       "      <td>IXI573-IOP-1155-T1_bse_default.nii</td>\n",
       "      <td>Yes</td>\n",
       "    </tr>\n",
       "    <tr>\n",
       "      <th>1309</th>\n",
       "      <td>IXI159-HH-1549-T1_bse_default.nii</td>\n",
       "      <td>Yes</td>\n",
       "    </tr>\n",
       "    <tr>\n",
       "      <th>1310</th>\n",
       "      <td>IXI470-IOP-1030-T1_bse_default.nii</td>\n",
       "      <td>Yes</td>\n",
       "    </tr>\n",
       "  </tbody>\n",
       "</table>\n",
       "<p>692 rows × 2 columns</p>\n",
       "</div>"
      ],
      "text/plain": [
       "                                Filename Recognizable-Facial-Feature\n",
       "0         IXI369-Guys-0924-T1_bet_03.nii                         Yes\n",
       "1           IXI448-HH-2393-T1_bet_07.nii                         Yes\n",
       "2           IXI252-HH-1693-T1_bet_08.nii                         Yes\n",
       "3         IXI188-Guys-0798-T1_bet_17.nii                         Yes\n",
       "4         IXI182-Guys-0792-T1_bet_17.nii                         Yes\n",
       "...                                  ...                         ...\n",
       "1305  IXI293-IOP-0876-T1_bse_default.nii                         Yes\n",
       "1306  IXI477-IOP-1141-T1_bse_default.nii                         Yes\n",
       "1307  IXI573-IOP-1155-T1_bse_default.nii                         Yes\n",
       "1309   IXI159-HH-1549-T1_bse_default.nii                         Yes\n",
       "1310  IXI470-IOP-1030-T1_bse_default.nii                         Yes\n",
       "\n",
       "[692 rows x 2 columns]"
      ]
     },
     "execution_count": 54,
     "metadata": {},
     "output_type": "execute_result"
    }
   ],
   "source": [
    "YesScans_recognize"
   ]
  },
  {
   "cell_type": "code",
   "execution_count": 55,
   "metadata": {},
   "outputs": [
    {
     "name": "stdout",
     "output_type": "stream",
     "text": [
      "Scans with recognizable features: 692\n",
      "Scans without recognizable features: 619\n"
     ]
    }
   ],
   "source": [
    "print('Scans with recognizable features: ' + str(len(df_recognize[df_recognize['Recognizable-Facial-Feature'] == 'Yes'])))\n",
    "print('Scans without recognizable features: ' + str(len(df_recognize[df_recognize['Recognizable-Facial-Feature'] == 'No'])))"
   ]
  },
  {
   "cell_type": "code",
   "execution_count": 56,
   "metadata": {},
   "outputs": [
    {
     "data": {
      "text/plain": [
       "'IXI088-Guys-0758-T1_bse_less_s46_r1.nii.gz'"
      ]
     },
     "execution_count": 56,
     "metadata": {},
     "output_type": "execute_result"
    }
   ],
   "source": [
    "# Check\n",
    "# This is the name of each file (we can match by name)\n",
    "image_file_paths[0][24:]"
   ]
  },
  {
   "cell_type": "code",
   "execution_count": 57,
   "metadata": {},
   "outputs": [
    {
     "data": {
      "text/plain": [
       "'DATA/BET_BSE_DATA/files/IXI088-Guys-0758-T1_bse_less_s46_r1.nii.gz'"
      ]
     },
     "execution_count": 57,
     "metadata": {},
     "output_type": "execute_result"
    }
   ],
   "source": [
    "# Check\n",
    "image_file_paths[0]"
   ]
  },
  {
   "cell_type": "code",
   "execution_count": 58,
   "metadata": {},
   "outputs": [
    {
     "data": {
      "text/plain": [
       "0           IXI369-Guys-0924-T1_bet_03.nii\n",
       "1             IXI448-HH-2393-T1_bet_07.nii\n",
       "2             IXI252-HH-1693-T1_bet_08.nii\n",
       "3           IXI188-Guys-0798-T1_bet_17.nii\n",
       "4           IXI182-Guys-0792-T1_bet_17.nii\n",
       "                       ...                \n",
       "1305    IXI293-IOP-0876-T1_bse_default.nii\n",
       "1306    IXI477-IOP-1141-T1_bse_default.nii\n",
       "1307    IXI573-IOP-1155-T1_bse_default.nii\n",
       "1309     IXI159-HH-1549-T1_bse_default.nii\n",
       "1310    IXI470-IOP-1030-T1_bse_default.nii\n",
       "Name: Filename, Length: 692, dtype: object"
      ]
     },
     "execution_count": 58,
     "metadata": {},
     "output_type": "execute_result"
    }
   ],
   "source": [
    "YesScans_recognize['Filename']"
   ]
  },
  {
   "cell_type": "code",
   "execution_count": 32,
   "metadata": {},
   "outputs": [
    {
     "data": {
      "text/plain": [
       "'IXI088-Guys-0758-T1_bse_less_s46_r1.nii'"
      ]
     },
     "execution_count": 32,
     "metadata": {},
     "output_type": "execute_result"
    }
   ],
   "source": [
    "# Check\n",
    "image_file_paths[0][24:-3:]"
   ]
  },
  {
   "cell_type": "code",
   "execution_count": 59,
   "metadata": {},
   "outputs": [],
   "source": [
    "Yes_file_paths_recognize = []\n",
    "for path in image_file_paths:\n",
    "    for filename in YesScans_recognize['Filename']:\n",
    "        # Check if path is a Yes file or a No file (matching by file_name)\n",
    "        if path[24:-3:] == filename:\n",
    "            Yes_file_paths_recognize.append(glob(path))"
   ]
  },
  {
   "cell_type": "code",
   "execution_count": 60,
   "metadata": {},
   "outputs": [
    {
     "data": {
      "text/plain": [
       "692"
      ]
     },
     "execution_count": 60,
     "metadata": {},
     "output_type": "execute_result"
    }
   ],
   "source": [
    "len(Yes_file_paths_recognize) "
   ]
  },
  {
   "cell_type": "code",
   "execution_count": 62,
   "metadata": {},
   "outputs": [
    {
     "data": {
      "text/plain": [
       "['DATA/BET_BSE_DATA/files/IXI088-Guys-0758-T1_bse_less_s46_r1.nii.gz']"
      ]
     },
     "execution_count": 62,
     "metadata": {},
     "output_type": "execute_result"
    }
   ],
   "source": [
    "Yes_file_paths_recognize[0]"
   ]
  },
  {
   "cell_type": "code",
   "execution_count": 63,
   "metadata": {},
   "outputs": [],
   "source": [
    "# For No\n",
    "No_file_paths_recognize = []\n",
    "for path in image_file_paths:\n",
    "    for filename in NoScans_recognize['Filename']:\n",
    "        # Check if path is a Yes file or a No file\n",
    "        if path[24:-3:] == filename:\n",
    "            No_file_paths_recognize.append(glob(path))"
   ]
  },
  {
   "cell_type": "code",
   "execution_count": 64,
   "metadata": {},
   "outputs": [
    {
     "data": {
      "text/plain": [
       "619"
      ]
     },
     "execution_count": 64,
     "metadata": {},
     "output_type": "execute_result"
    }
   ],
   "source": [
    "len(No_file_paths_recognize)"
   ]
  },
  {
   "cell_type": "code",
   "execution_count": 76,
   "metadata": {},
   "outputs": [
    {
     "data": {
      "text/plain": [
       "['DATA/BET_BSE_DATA/files/IXI482-HH-2178-T1_bet_86.nii.gz']"
      ]
     },
     "execution_count": 76,
     "metadata": {},
     "output_type": "execute_result"
    }
   ],
   "source": [
    "No_file_paths_recognize[0]"
   ]
  },
  {
   "cell_type": "markdown",
   "metadata": {},
   "source": [
    "We now call **preprocess_scan** on the image files and sotre the processed files in **Yes_data_recognize** & **No_data_recognize**"
   ]
  },
  {
   "cell_type": "code",
   "execution_count": 77,
   "metadata": {},
   "outputs": [],
   "source": [
    "# Now we make the numpy arrays\n",
    "\n",
    "# Yes images\n",
    "Yes_data_recognize = np.array([process_scan(path[0]) for path in Yes_file_paths_recognize])"
   ]
  },
  {
   "cell_type": "code",
   "execution_count": 79,
   "metadata": {},
   "outputs": [],
   "source": [
    "# No images\n",
    "No_data_recognize = np.array([process_scan(path[0]) for path in No_file_paths_recognize])"
   ]
  },
  {
   "cell_type": "code",
   "execution_count": 80,
   "metadata": {},
   "outputs": [
    {
     "name": "stdout",
     "output_type": "stream",
     "text": [
      "692 619\n"
     ]
    }
   ],
   "source": [
    "print(len(Yes_data_recognize), len(No_data_recognize))"
   ]
  },
  {
   "cell_type": "markdown",
   "metadata": {},
   "source": [
    "Now we set the labels as 1s & 0s for Yes & NO respectively\n",
    "\n",
    "**Yes_recognize** gets a value of 1 for every image file in Yes_data_recognize (which is an array of all the processed Yes image files). \n",
    "\n",
    "**No_recognize** gets a value of 0 for every image file in No_data_recognize (which is an array of all the processed No image files). "
   ]
  },
  {
   "cell_type": "code",
   "execution_count": 82,
   "metadata": {},
   "outputs": [],
   "source": [
    "# We now set the labels\n",
    "# 1 for recognizing facial features, 0 for not\n",
    "Yes_recognize = np.array([1 for _ in range(len(Yes_data_recognize))])\n",
    "\n",
    "No_recognize = np.array([0 for _ in range(len(No_data_recognize))])"
   ]
  },
  {
   "cell_type": "code",
   "execution_count": 201,
   "metadata": {},
   "outputs": [],
   "source": [
    "#X = np.concatenate((Yes_data_recognize, No_data_recognize), axis=0)\n",
    "#y = np.concatenate((Yes_recognize, No_recognize), axis=0)"
   ]
  },
  {
   "cell_type": "markdown",
   "metadata": {},
   "source": [
    "#### Train - Test split the data"
   ]
  },
  {
   "cell_type": "code",
   "execution_count": 83,
   "metadata": {},
   "outputs": [
    {
     "name": "stdout",
     "output_type": "stream",
     "text": [
      "Train Size:  918\n",
      "Test Size:  393\n"
     ]
    }
   ],
   "source": [
    "# Get train (70%) & test (30%) size\n",
    "\n",
    "print(\"Train Size: \", round(len(df_recognize) * 0.7))\n",
    "print(\"Test Size: \", round(len(df_recognize) * 0.3))"
   ]
  },
  {
   "cell_type": "code",
   "execution_count": 84,
   "metadata": {},
   "outputs": [
    {
     "name": "stdout",
     "output_type": "stream",
     "text": [
      "692 619\n"
     ]
    }
   ],
   "source": [
    "print(len(Yes_data_recognize), len(No_data_recognize))"
   ]
  },
  {
   "cell_type": "markdown",
   "metadata": {},
   "source": [
    "918 + 393 = 1311 = 692 + 619\n",
    "\n",
    "459 + 459 = 918\n",
    "\n",
    "So below, for the train set, we go until the 459th value for the yes data + until the 49th value for the No data = 918 data values\n",
    "Whatever remains is in the test.\n"
   ]
  },
  {
   "cell_type": "code",
   "execution_count": 85,
   "metadata": {},
   "outputs": [
    {
     "name": "stdout",
     "output_type": "stream",
     "text": [
      "Training dimensions: (918, 128, 128, 64)\n",
      "Testing dimensions (393, 128, 128, 64)\n"
     ]
    }
   ],
   "source": [
    "# Train (70%) - test (30%) split\n",
    "\n",
    "\n",
    "X_train_recognize = np.concatenate((Yes_data_recognize[:459], No_data_recognize[:459]), axis=0)\n",
    "y_train_recognize = np.concatenate((Yes_recognize[:459], No_recognize[:459]), axis=0)\n",
    "X_test_recognize = np.concatenate((Yes_data_recognize[459:], No_data_recognize[459:]), axis=0)\n",
    "y_test_recognize = np.concatenate((Yes_recognize[459:], No_recognize[459:]), axis=0)\n",
    "\n",
    "print(f\"Training dimensions: {X_train_recognize.shape}\\nTesting dimensions {X_test_recognize.shape}\")"
   ]
  },
  {
   "cell_type": "code",
   "execution_count": 86,
   "metadata": {},
   "outputs": [],
   "source": [
    "with open('X_train_recognize.pickle', 'wb') as f:\n",
    "    pickle.dump(X_train_recognize, f)\n",
    "with open('y_train_recognize.pickle', 'wb') as f:\n",
    "    pickle.dump(y_train_recognize, f)\n",
    "with open('X_test_recognize.pickle', 'wb') as f:\n",
    "    pickle.dump(X_test_recognize, f)\n",
    "with open('y_test_recognize.pickle', 'wb') as f:\n",
    "    pickle.dump(y_test_recognize, f)\n"
   ]
  },
  {
   "cell_type": "markdown",
   "metadata": {},
   "source": [
    "#### For df_brainLoss"
   ]
  },
  {
   "cell_type": "code",
   "execution_count": 87,
   "metadata": {},
   "outputs": [
    {
     "data": {
      "text/html": [
       "<div>\n",
       "<style scoped>\n",
       "    .dataframe tbody tr th:only-of-type {\n",
       "        vertical-align: middle;\n",
       "    }\n",
       "\n",
       "    .dataframe tbody tr th {\n",
       "        vertical-align: top;\n",
       "    }\n",
       "\n",
       "    .dataframe thead th {\n",
       "        text-align: right;\n",
       "    }\n",
       "</style>\n",
       "<table border=\"1\" class=\"dataframe\">\n",
       "  <thead>\n",
       "    <tr style=\"text-align: right;\">\n",
       "      <th></th>\n",
       "      <th>Filename</th>\n",
       "      <th>Brain-Feature-Loss</th>\n",
       "    </tr>\n",
       "  </thead>\n",
       "  <tbody>\n",
       "    <tr>\n",
       "      <th>0</th>\n",
       "      <td>IXI369-Guys-0924-T1_bet_03.nii</td>\n",
       "      <td>No</td>\n",
       "    </tr>\n",
       "    <tr>\n",
       "      <th>1</th>\n",
       "      <td>IXI448-HH-2393-T1_bet_07.nii</td>\n",
       "      <td>No</td>\n",
       "    </tr>\n",
       "    <tr>\n",
       "      <th>2</th>\n",
       "      <td>IXI252-HH-1693-T1_bet_08.nii</td>\n",
       "      <td>No</td>\n",
       "    </tr>\n",
       "    <tr>\n",
       "      <th>3</th>\n",
       "      <td>IXI188-Guys-0798-T1_bet_17.nii</td>\n",
       "      <td>No</td>\n",
       "    </tr>\n",
       "    <tr>\n",
       "      <th>4</th>\n",
       "      <td>IXI182-Guys-0792-T1_bet_17.nii</td>\n",
       "      <td>No</td>\n",
       "    </tr>\n",
       "  </tbody>\n",
       "</table>\n",
       "</div>"
      ],
      "text/plain": [
       "                         Filename Brain-Feature-Loss\n",
       "0  IXI369-Guys-0924-T1_bet_03.nii                 No\n",
       "1    IXI448-HH-2393-T1_bet_07.nii                 No\n",
       "2    IXI252-HH-1693-T1_bet_08.nii                 No\n",
       "3  IXI188-Guys-0798-T1_bet_17.nii                 No\n",
       "4  IXI182-Guys-0792-T1_bet_17.nii                 No"
      ]
     },
     "execution_count": 87,
     "metadata": {},
     "output_type": "execute_result"
    }
   ],
   "source": [
    "df_brainLoss.head()"
   ]
  },
  {
   "cell_type": "code",
   "execution_count": 88,
   "metadata": {},
   "outputs": [],
   "source": [
    "# For df_brainLoss\n",
    "YesScans_brainLoss = df_brainLoss[df_brainLoss['Brain-Feature-Loss'] == 'Yes']\n",
    "NoScans_brainLoss = df_brainLoss[df_brainLoss['Brain-Feature-Loss'] == 'No']"
   ]
  },
  {
   "cell_type": "code",
   "execution_count": 89,
   "metadata": {},
   "outputs": [
    {
     "data": {
      "text/html": [
       "<div>\n",
       "<style scoped>\n",
       "    .dataframe tbody tr th:only-of-type {\n",
       "        vertical-align: middle;\n",
       "    }\n",
       "\n",
       "    .dataframe tbody tr th {\n",
       "        vertical-align: top;\n",
       "    }\n",
       "\n",
       "    .dataframe thead th {\n",
       "        text-align: right;\n",
       "    }\n",
       "</style>\n",
       "<table border=\"1\" class=\"dataframe\">\n",
       "  <thead>\n",
       "    <tr style=\"text-align: right;\">\n",
       "      <th></th>\n",
       "      <th>Filename</th>\n",
       "      <th>Brain-Feature-Loss</th>\n",
       "    </tr>\n",
       "  </thead>\n",
       "  <tbody>\n",
       "    <tr>\n",
       "      <th>215</th>\n",
       "      <td>IXI049-HH-1358-T1_bet_18.nii</td>\n",
       "      <td>Yes</td>\n",
       "    </tr>\n",
       "    <tr>\n",
       "      <th>322</th>\n",
       "      <td>IXI250-Guys-0836-T1_bet_78.nii</td>\n",
       "      <td>Yes</td>\n",
       "    </tr>\n",
       "    <tr>\n",
       "      <th>323</th>\n",
       "      <td>IXI470-IOP-1030-T1_bet_78.nii</td>\n",
       "      <td>Yes</td>\n",
       "    </tr>\n",
       "    <tr>\n",
       "      <th>324</th>\n",
       "      <td>IXI089-Guys-0757-T1_bet_77.nii</td>\n",
       "      <td>Yes</td>\n",
       "    </tr>\n",
       "    <tr>\n",
       "      <th>325</th>\n",
       "      <td>IXI053-Guys-0727-T1_bet_9.nii</td>\n",
       "      <td>Yes</td>\n",
       "    </tr>\n",
       "    <tr>\n",
       "      <th>...</th>\n",
       "      <td>...</td>\n",
       "      <td>...</td>\n",
       "    </tr>\n",
       "    <tr>\n",
       "      <th>1269</th>\n",
       "      <td>IXI536-Guys-1059-T1_bse_high_s71_r2.nii</td>\n",
       "      <td>Yes</td>\n",
       "    </tr>\n",
       "    <tr>\n",
       "      <th>1292</th>\n",
       "      <td>IXI216-HH-1635-T1_bse_default.nii</td>\n",
       "      <td>Yes</td>\n",
       "    </tr>\n",
       "    <tr>\n",
       "      <th>1297</th>\n",
       "      <td>IXI015-HH-1258-T1_bse_default.nii</td>\n",
       "      <td>Yes</td>\n",
       "    </tr>\n",
       "    <tr>\n",
       "      <th>1300</th>\n",
       "      <td>IXI397-Guys-0953-T1_bse_default.nii</td>\n",
       "      <td>Yes</td>\n",
       "    </tr>\n",
       "    <tr>\n",
       "      <th>1308</th>\n",
       "      <td>IXI483-HH-2177-T1_bse_default.nii</td>\n",
       "      <td>Yes</td>\n",
       "    </tr>\n",
       "  </tbody>\n",
       "</table>\n",
       "<p>604 rows × 2 columns</p>\n",
       "</div>"
      ],
      "text/plain": [
       "                                     Filename Brain-Feature-Loss\n",
       "215              IXI049-HH-1358-T1_bet_18.nii                Yes\n",
       "322            IXI250-Guys-0836-T1_bet_78.nii                Yes\n",
       "323             IXI470-IOP-1030-T1_bet_78.nii                Yes\n",
       "324            IXI089-Guys-0757-T1_bet_77.nii                Yes\n",
       "325             IXI053-Guys-0727-T1_bet_9.nii                Yes\n",
       "...                                       ...                ...\n",
       "1269  IXI536-Guys-1059-T1_bse_high_s71_r2.nii                Yes\n",
       "1292        IXI216-HH-1635-T1_bse_default.nii                Yes\n",
       "1297        IXI015-HH-1258-T1_bse_default.nii                Yes\n",
       "1300      IXI397-Guys-0953-T1_bse_default.nii                Yes\n",
       "1308        IXI483-HH-2177-T1_bse_default.nii                Yes\n",
       "\n",
       "[604 rows x 2 columns]"
      ]
     },
     "execution_count": 89,
     "metadata": {},
     "output_type": "execute_result"
    }
   ],
   "source": [
    "YesScans_brainLoss"
   ]
  },
  {
   "cell_type": "code",
   "execution_count": 90,
   "metadata": {},
   "outputs": [
    {
     "name": "stdout",
     "output_type": "stream",
     "text": [
      "Scans with brain feature loss: 604\n",
      "Scans without brain feature loss: 707\n"
     ]
    }
   ],
   "source": [
    "print('Scans with brain feature loss: ' + str(len(df_brainLoss[df_brainLoss['Brain-Feature-Loss'] == 'Yes'])))\n",
    "print('Scans without brain feature loss: ' + str(len(df_brainLoss[df_brainLoss['Brain-Feature-Loss'] == 'No'])))"
   ]
  },
  {
   "cell_type": "code",
   "execution_count": 95,
   "metadata": {},
   "outputs": [
    {
     "data": {
      "text/plain": [
       "'IXI088-Guys-0758-T1_bse_less_s46_r1.nii'"
      ]
     },
     "execution_count": 95,
     "metadata": {},
     "output_type": "execute_result"
    }
   ],
   "source": [
    "# Check\n",
    "# This is the name of each file (we can match by name)\n",
    "image_file_paths[0][24:-3:]"
   ]
  },
  {
   "cell_type": "code",
   "execution_count": 96,
   "metadata": {},
   "outputs": [],
   "source": [
    "Yes_file_paths_brainLoss = []\n",
    "for path in image_file_paths:\n",
    "    for filename in YesScans_brainLoss['Filename']:\n",
    "        # Check if path is a Yes file or a No file (matching by file_name)\n",
    "        if path[24:-3:] == filename:\n",
    "            Yes_file_paths_brainLoss.append(glob(path))"
   ]
  },
  {
   "cell_type": "code",
   "execution_count": 97,
   "metadata": {},
   "outputs": [],
   "source": [
    "# For No\n",
    "No_file_paths_brainLoss = []\n",
    "for path in image_file_paths:\n",
    "    for filename in NoScans_brainLoss['Filename']:\n",
    "        # Check if path is a Yes file or a No file\n",
    "        if path[24:-3:] == filename:\n",
    "            No_file_paths_brainLoss.append(glob(path))"
   ]
  },
  {
   "cell_type": "code",
   "execution_count": 98,
   "metadata": {},
   "outputs": [
    {
     "name": "stdout",
     "output_type": "stream",
     "text": [
      "604 707\n"
     ]
    }
   ],
   "source": [
    "print(len(Yes_file_paths_brainLoss), len(No_file_paths_brainLoss))"
   ]
  },
  {
   "cell_type": "code",
   "execution_count": 99,
   "metadata": {},
   "outputs": [],
   "source": [
    "# Now we make the numpy arrays\n",
    "\n",
    "# Yes images\n",
    "Yes_data_brainLoss = np.array([process_scan(path[0]) for path in Yes_file_paths_brainLoss])"
   ]
  },
  {
   "cell_type": "code",
   "execution_count": 100,
   "metadata": {},
   "outputs": [],
   "source": [
    "# No images\n",
    "No_data_brainLoss = np.array([process_scan(path[0]) for path in No_file_paths_brainLoss])"
   ]
  },
  {
   "cell_type": "markdown",
   "metadata": {},
   "source": [
    "Now we set the labels as 0s & 1s for Yes & NO respectively\n",
    "\n",
    "**Yes_brainLoss** gets a value of 0 for every image file in Yes_data_recognize (which is an array of all the processed Yes image files). \n",
    "\n",
    "**No_brainLoss** gets a value of 1 for every image file in No_data_recognize (which is an array of all the processed No image files). "
   ]
  },
  {
   "cell_type": "code",
   "execution_count": 101,
   "metadata": {},
   "outputs": [],
   "source": [
    "# We now set the labels\n",
    "# 1 for no loss of brain features, 0 for loss of brain features\n",
    "Yes_brainLoss = np.array([0 for _ in range(len(Yes_data_brainLoss))])\n",
    "\n",
    "No_brainLoss = np.array([1 for _ in range(len(No_data_brainLoss))])"
   ]
  },
  {
   "cell_type": "code",
   "execution_count": 102,
   "metadata": {},
   "outputs": [
    {
     "name": "stdout",
     "output_type": "stream",
     "text": [
      "604 707\n"
     ]
    }
   ],
   "source": [
    "print(len(Yes_brainLoss), len(No_brainLoss))"
   ]
  },
  {
   "cell_type": "code",
   "execution_count": 103,
   "metadata": {},
   "outputs": [
    {
     "name": "stdout",
     "output_type": "stream",
     "text": [
      "Train Size:  918\n",
      "Test Size:  393\n"
     ]
    }
   ],
   "source": [
    "# Get train (70%) & test (30%) size\n",
    "\n",
    "print(\"Train Size: \", round(len(df_brainLoss) * 0.7))\n",
    "print(\"Test Size: \", round(len(df_brainLoss) * 0.3))"
   ]
  },
  {
   "cell_type": "code",
   "execution_count": 104,
   "metadata": {},
   "outputs": [
    {
     "name": "stdout",
     "output_type": "stream",
     "text": [
      "Training dimensions: (918, 128, 128, 64)\n",
      "Testing dimensions (393, 128, 128, 64)\n"
     ]
    }
   ],
   "source": [
    "# Train (70%) - test (30%) split (918/2 = 459)\n",
    "\n",
    "\n",
    "X_train_brainLoss = np.concatenate((Yes_data_brainLoss[:459], No_data_brainLoss[:459]), axis=0)\n",
    "y_train_brainLoss = np.concatenate((Yes_brainLoss[:459], No_brainLoss[:459]), axis=0)\n",
    "X_test_brainLoss = np.concatenate((Yes_data_brainLoss[459:], No_data_brainLoss[459:]), axis=0)\n",
    "y_test_brainLoss = np.concatenate((Yes_brainLoss[459:], No_brainLoss[459:]), axis=0)\n",
    "\n",
    "print(f\"Training dimensions: {X_train_brainLoss.shape}\\nTesting dimensions {X_test_brainLoss.shape}\")"
   ]
  },
  {
   "cell_type": "code",
   "execution_count": 105,
   "metadata": {},
   "outputs": [],
   "source": [
    "# Saving the train and test data as pickle files\n",
    "with open('X_train_brainLoss.pickle', 'wb') as f:\n",
    "    pickle.dump(X_train_brainLoss, f)\n",
    "with open('y_train_brainLoss.pickle', 'wb') as f:\n",
    "    pickle.dump(y_train_brainLoss, f)\n",
    "with open('X_test_brainLoss.pickle', 'wb') as f:\n",
    "    pickle.dump(X_test_brainLoss, f)\n",
    "with open('y_test_brainLoss.pickle', 'wb') as f:\n",
    "    pickle.dump(y_test_brainLoss, f)"
   ]
  },
  {
   "cell_type": "code",
   "execution_count": null,
   "metadata": {},
   "outputs": [],
   "source": []
  }
 ],
 "metadata": {
  "interpreter": {
   "hash": "24b4a5161a7dbc0ca27ec4b8da98573896bbc73acee81e4a10592b94f9185a1a"
  },
  "kernelspec": {
   "display_name": "Python 3.7.6 ('base')",
   "language": "python",
   "name": "python3"
  },
  "language_info": {
   "codemirror_mode": {
    "name": "ipython",
    "version": 3
   },
   "file_extension": ".py",
   "mimetype": "text/x-python",
   "name": "python",
   "nbconvert_exporter": "python",
   "pygments_lexer": "ipython3",
   "version": "3.7.6"
  },
  "orig_nbformat": 4
 },
 "nbformat": 4,
 "nbformat_minor": 2
}
