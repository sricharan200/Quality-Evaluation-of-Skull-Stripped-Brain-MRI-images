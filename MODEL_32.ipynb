{
 "cells": [
  {
   "cell_type": "code",
   "execution_count": 1,
   "id": "6cb4ea3f-e504-4fb7-a3aa-26de6d76eff5",
   "metadata": {},
   "outputs": [
    {
     "data": {
      "text/plain": [
       "[PhysicalDevice(name='/physical_device:GPU:0', device_type='GPU')]"
      ]
     },
     "execution_count": 1,
     "metadata": {},
     "output_type": "execute_result"
    }
   ],
   "source": [
    "import pandas as pd\n",
    "import matplotlib.pyplot as plt\n",
    "import numpy as np\n",
    "import pickle\n",
    "import tensorflow as tf\n",
    "from scipy import ndimage\n",
    "import random\n",
    "from tensorflow import keras\n",
    "from tensorflow.keras import layers\n",
    "\n",
    "tf.config.list_physical_devices('GPU')"
   ]
  },
  {
   "cell_type": "code",
   "execution_count": 2,
   "id": "b271b72f-564b-4f43-90e8-4ce37e840c6e",
   "metadata": {},
   "outputs": [],
   "source": [
    "tf.random.set_seed(1) # For reproducibility"
   ]
  },
  {
   "cell_type": "code",
   "execution_count": 3,
   "id": "d10a4efd-a982-4190-bb7a-b9a8901d439f",
   "metadata": {},
   "outputs": [
    {
     "name": "stdout",
     "output_type": "stream",
     "text": [
      "X train shape: (918, 128, 128, 64)\n",
      "X test shape: (393, 128, 128, 64)\n"
     ]
    }
   ],
   "source": [
    "# For brainLoss\n",
    "\n",
    "X_train_brainLoss = pickle.load(open('X_train_brainLoss.pickle', 'rb'))\n",
    "X_test_brainLoss = pickle.load(open('X_test_brainLoss.pickle', 'rb'))\n",
    "y_train_brainLoss = pickle.load(open('y_train_brainLoss.pickle', 'rb'))\n",
    "y_test_brainLoss = pickle.load(open('y_test_brainLoss.pickle', 'rb'))\n",
    "\n",
    "print(f\"X train shape: {X_train_brainLoss.shape}\\nX test shape: {X_test_brainLoss.shape}\")"
   ]
  },
  {
   "cell_type": "code",
   "execution_count": 4,
   "id": "0d8e0d18-9fa5-488e-9e6d-dbfd07738b13",
   "metadata": {},
   "outputs": [],
   "source": [
    "@tf.function\n",
    "def rotate(volume):\n",
    "    \"\"\"Rotate the volume by a few degrees\"\"\"\n",
    "\n",
    "    def scipy_rotate(volume):\n",
    "        # define some rotation angles\n",
    "        angles = [-20, 20]\n",
    "        # pick angles at random\n",
    "        angle = random.choice(angles)\n",
    "        # rotate volume\n",
    "        volume = ndimage.rotate(volume, angle, reshape=False)\n",
    "        volume[volume < 0] = 0\n",
    "        volume[volume > 1] = 1\n",
    "        return volume\n",
    "\n",
    "    augmented_volume = tf.numpy_function(scipy_rotate, [volume], tf.float32)\n",
    "    return augmented_volume\n",
    "\n",
    "\n",
    "def train_preprocessing(volume, label):\n",
    "    \"\"\"Process training data by rotating and adding a channel.\"\"\"\n",
    "    # Rotate volume\n",
    "    volume = rotate(volume)\n",
    "    volume = tf.expand_dims(volume, axis=3)\n",
    "    return volume, label\n",
    "\n",
    "\n",
    "def test_preprocessing(volume, label):\n",
    "    \"\"\"Process validation data by only adding a channel.\"\"\"\n",
    "    volume = tf.expand_dims(volume, axis=3)\n",
    "    return volume, label"
   ]
  },
  {
   "cell_type": "code",
   "execution_count": 5,
   "id": "4aaa3ff9-66da-44f2-8d4c-fc66ee46c2ff",
   "metadata": {},
   "outputs": [
    {
     "name": "stderr",
     "output_type": "stream",
     "text": [
      "2022-04-09 10:17:52.917258: I tensorflow/core/platform/cpu_feature_guard.cc:151] This TensorFlow binary is optimized with oneAPI Deep Neural Network Library (oneDNN) to use the following CPU instructions in performance-critical operations:  SSE4.1 SSE4.2 AVX AVX2 AVX512F FMA\n",
      "To enable them in other operations, rebuild TensorFlow with the appropriate compiler flags.\n",
      "2022-04-09 10:17:54.091826: I tensorflow/core/common_runtime/gpu/gpu_device.cc:1525] Created device /job:localhost/replica:0/task:0/device:GPU:0 with 14592 MB memory:  -> device: 0, name: Tesla V100-PCIE-16GB, pci bus id: 0000:3b:00.0, compute capability: 7.0\n"
     ]
    }
   ],
   "source": [
    "# brainLoss dataloaders (manage memory usage)\n",
    "train_loader_brainLoss = tf.data.Dataset.from_tensor_slices((X_train_brainLoss, y_train_brainLoss))\n",
    "test_loader_brainLoss = tf.data.Dataset.from_tensor_slices((X_test_brainLoss, y_test_brainLoss))"
   ]
  },
  {
   "cell_type": "code",
   "execution_count": 6,
   "id": "1b1ff6fa-69b7-4763-888a-0cda410a386d",
   "metadata": {},
   "outputs": [],
   "source": [
    "batch_size = 24\n",
    "\n",
    "# Augment the on the fly during training.\n",
    "train_dataset_brainLoss = (\n",
    "    train_loader_brainLoss.shuffle(len(X_train_brainLoss))\n",
    "    .map(train_preprocessing)\n",
    "    .batch(batch_size)\n",
    "    .prefetch(2)\n",
    ")\n",
    "# Only rescale.\n",
    "test_dataset_brainLoss = (\n",
    "    test_loader_brainLoss.shuffle(len(X_test_brainLoss))\n",
    "    .map(test_preprocessing)\n",
    "    .batch(batch_size)\n",
    "    .prefetch(2)\n",
    ")"
   ]
  },
  {
   "cell_type": "code",
   "execution_count": 7,
   "id": "bc84683e-0f2c-4f08-8839-6e6b5b44b8ea",
   "metadata": {},
   "outputs": [
    {
     "name": "stdout",
     "output_type": "stream",
     "text": [
      "Model: \"3dcnn\"\n",
      "_________________________________________________________________\n",
      " Layer (type)                Output Shape              Param #   \n",
      "=================================================================\n",
      " input_1 (InputLayer)        [(None, 128, 128, 64, 1)  0         \n",
      "                             ]                                   \n",
      "                                                                 \n",
      " conv3d (Conv3D)             (None, 126, 126, 62, 8)   224       \n",
      "                                                                 \n",
      " max_pooling3d (MaxPooling3D  (None, 63, 63, 31, 8)    0         \n",
      " )                                                               \n",
      "                                                                 \n",
      " batch_normalization (BatchN  (None, 63, 63, 31, 8)    32        \n",
      " ormalization)                                                   \n",
      "                                                                 \n",
      " conv3d_1 (Conv3D)           (None, 61, 61, 29, 16)    3472      \n",
      "                                                                 \n",
      " max_pooling3d_1 (MaxPooling  (None, 30, 30, 14, 16)   0         \n",
      " 3D)                                                             \n",
      "                                                                 \n",
      " batch_normalization_1 (Batc  (None, 30, 30, 14, 16)   64        \n",
      " hNormalization)                                                 \n",
      "                                                                 \n",
      " conv3d_2 (Conv3D)           (None, 28, 28, 12, 32)    13856     \n",
      "                                                                 \n",
      " max_pooling3d_2 (MaxPooling  (None, 14, 14, 6, 32)    0         \n",
      " 3D)                                                             \n",
      "                                                                 \n",
      " batch_normalization_2 (Batc  (None, 14, 14, 6, 32)    128       \n",
      " hNormalization)                                                 \n",
      "                                                                 \n",
      " global_average_pooling3d (G  (None, 32)               0         \n",
      " lobalAveragePooling3D)                                          \n",
      "                                                                 \n",
      " dense (Dense)               (None, 64)                2112      \n",
      "                                                                 \n",
      " dropout (Dropout)           (None, 64)                0         \n",
      "                                                                 \n",
      " dense_1 (Dense)             (None, 1)                 65        \n",
      "                                                                 \n",
      "=================================================================\n",
      "Total params: 19,953\n",
      "Trainable params: 19,841\n",
      "Non-trainable params: 112\n",
      "_________________________________________________________________\n"
     ]
    }
   ],
   "source": [
    "def get_model(width=128, height=128, depth=64):\n",
    "    \"\"\"Build a 3D convolutional neural network model.\"\"\"    \n",
    "    inputs = keras.Input((width, height, depth, 1))\n",
    "\n",
    "    x = layers.Conv3D(filters=8, kernel_size=3, activation=\"relu\")(inputs)\n",
    "    x = layers.MaxPool3D(pool_size=2)(x)\n",
    "    x = layers.BatchNormalization()(x)\n",
    "\n",
    "    x = layers.Conv3D(filters=16, kernel_size=3, activation=\"relu\")(x)\n",
    "    x = layers.MaxPool3D(pool_size=2)(x)\n",
    "    x = layers.BatchNormalization()(x)\n",
    "\n",
    "    x = layers.Conv3D(filters=32, kernel_size=3, activation=\"relu\")(x)\n",
    "    x = layers.MaxPool3D(pool_size=2)(x)\n",
    "    x = layers.BatchNormalization()(x)\n",
    "\n",
    "    x = layers.GlobalAveragePooling3D()(x)\n",
    "    x = layers.Dense(units=64, activation=\"relu\")(x)\n",
    "    x = layers.Dropout(0.3)(x)\n",
    "\n",
    "    outputs = layers.Dense(units=1, activation=\"sigmoid\")(x)\n",
    "\n",
    "    # Define the model.\n",
    "    model = keras.Model(inputs, outputs, name=\"3dcnn\")\n",
    "    return model\n",
    "\n",
    "\n",
    "# Build model.\n",
    "model = get_model(width=128, height=128, depth=64)\n",
    "model.summary()"
   ]
  },
  {
   "cell_type": "code",
   "execution_count": 8,
   "id": "23c94375-8832-41d4-bc3f-9ee7ae017e5f",
   "metadata": {},
   "outputs": [],
   "source": [
    "initial_learning_rate = 0.00001\n",
    "lr_schedule = keras.optimizers.schedules.ExponentialDecay(\n",
    "    initial_learning_rate, decay_steps=100000, decay_rate=0.96, staircase=True\n",
    ")\n",
    "model.compile(\n",
    "    loss=\"binary_crossentropy\",\n",
    "    optimizer=keras.optimizers.Adam(learning_rate=lr_schedule),\n",
    "    metrics=[\"acc\"],\n",
    ")\n",
    "\n",
    "# Define callbacks.\n",
    "checkpoint_cb = keras.callbacks.ModelCheckpoint(\n",
    "    \"3d_brainLoss_class32_1.h5\", save_best_only=True\n",
    ")\n",
    "early_stopping_cb = keras.callbacks.EarlyStopping(monitor=\"val_acc\", patience=15)"
   ]
  },
  {
   "cell_type": "code",
   "execution_count": 9,
   "id": "0966878b-585e-46c3-a709-79ae3b916d81",
   "metadata": {},
   "outputs": [
    {
     "name": "stdout",
     "output_type": "stream",
     "text": [
      "Epoch 1/30\n"
     ]
    },
    {
     "name": "stderr",
     "output_type": "stream",
     "text": [
      "2022-04-09 10:18:21.024960: I tensorflow/stream_executor/cuda/cuda_dnn.cc:366] Loaded cuDNN version 8201\n",
      "2022-04-09 10:18:21.925294: I tensorflow/core/platform/default/subprocess.cc:304] Start cannot spawn child process: No such file or directory\n",
      "2022-04-09 10:18:21.925884: I tensorflow/core/platform/default/subprocess.cc:304] Start cannot spawn child process: No such file or directory\n",
      "2022-04-09 10:18:21.925900: W tensorflow/stream_executor/gpu/asm_compiler.cc:80] Couldn't get ptxas version string: INTERNAL: Couldn't invoke ptxas --version\n",
      "2022-04-09 10:18:21.926510: I tensorflow/core/platform/default/subprocess.cc:304] Start cannot spawn child process: No such file or directory\n",
      "2022-04-09 10:18:21.926560: W tensorflow/stream_executor/gpu/redzone_allocator.cc:314] INTERNAL: Failed to launch ptxas\n",
      "Relying on driver to perform ptx compilation. \n",
      "Modify $PATH to customize ptxas location.\n",
      "This message will be only logged once.\n"
     ]
    },
    {
     "name": "stdout",
     "output_type": "stream",
     "text": [
      "39/39 [==============================] - 145s 4s/step - loss: 0.6433 - acc: 0.6776 - val_loss: 0.6773 - val_acc: 0.6310\n",
      "Epoch 2/30\n",
      "39/39 [==============================] - 144s 4s/step - loss: 0.5808 - acc: 0.8769 - val_loss: 0.6644 - val_acc: 0.6310\n",
      "Epoch 3/30\n",
      "39/39 [==============================] - 141s 4s/step - loss: 0.5179 - acc: 0.9641 - val_loss: 0.6523 - val_acc: 0.6310\n",
      "Epoch 4/30\n",
      "39/39 [==============================] - 144s 4s/step - loss: 0.4666 - acc: 0.9804 - val_loss: 0.6310 - val_acc: 0.6310\n",
      "Epoch 5/30\n",
      "39/39 [==============================] - 144s 4s/step - loss: 0.4320 - acc: 0.9847 - val_loss: 0.6057 - val_acc: 0.6438\n",
      "Epoch 6/30\n",
      "39/39 [==============================] - 143s 4s/step - loss: 0.3865 - acc: 0.9815 - val_loss: 0.5769 - val_acc: 0.9898\n",
      "Epoch 7/30\n",
      "39/39 [==============================] - 142s 4s/step - loss: 0.3585 - acc: 0.9793 - val_loss: 0.5436 - val_acc: 0.9822\n",
      "Epoch 8/30\n",
      "39/39 [==============================] - 142s 4s/step - loss: 0.3338 - acc: 0.9782 - val_loss: 0.5141 - val_acc: 0.9517\n",
      "Epoch 9/30\n",
      "39/39 [==============================] - 146s 4s/step - loss: 0.3155 - acc: 0.9815 - val_loss: 0.4828 - val_acc: 0.9389\n",
      "Epoch 10/30\n",
      "39/39 [==============================] - 143s 4s/step - loss: 0.3039 - acc: 0.9826 - val_loss: 0.4467 - val_acc: 0.9262\n",
      "Epoch 11/30\n",
      "39/39 [==============================] - 144s 4s/step - loss: 0.2864 - acc: 0.9826 - val_loss: 0.4040 - val_acc: 0.9491\n",
      "Epoch 12/30\n",
      "39/39 [==============================] - 141s 4s/step - loss: 0.2740 - acc: 0.9826 - val_loss: 0.3683 - val_acc: 0.9542\n",
      "Epoch 13/30\n",
      "39/39 [==============================] - 143s 4s/step - loss: 0.2767 - acc: 0.9793 - val_loss: 0.3273 - val_acc: 0.9669\n",
      "Epoch 14/30\n",
      "39/39 [==============================] - 143s 4s/step - loss: 0.2691 - acc: 0.9760 - val_loss: 0.2946 - val_acc: 0.9695\n",
      "Epoch 15/30\n",
      "39/39 [==============================] - 141s 4s/step - loss: 0.2530 - acc: 0.9815 - val_loss: 0.2659 - val_acc: 0.9796\n",
      "Epoch 16/30\n",
      "39/39 [==============================] - 140s 4s/step - loss: 0.2485 - acc: 0.9815 - val_loss: 0.2397 - val_acc: 0.9873\n",
      "Epoch 17/30\n",
      "39/39 [==============================] - 142s 4s/step - loss: 0.2487 - acc: 0.9804 - val_loss: 0.2233 - val_acc: 0.9873\n",
      "Epoch 18/30\n",
      "39/39 [==============================] - 143s 4s/step - loss: 0.2397 - acc: 0.9804 - val_loss: 0.2095 - val_acc: 0.9898\n",
      "Epoch 19/30\n",
      "39/39 [==============================] - 144s 4s/step - loss: 0.2277 - acc: 0.9837 - val_loss: 0.1969 - val_acc: 0.9898\n",
      "Epoch 20/30\n",
      "39/39 [==============================] - 144s 4s/step - loss: 0.2313 - acc: 0.9793 - val_loss: 0.1889 - val_acc: 0.9898\n",
      "Epoch 21/30\n",
      "39/39 [==============================] - 143s 4s/step - loss: 0.2129 - acc: 0.9804 - val_loss: 0.1845 - val_acc: 0.9898\n"
     ]
    },
    {
     "data": {
      "text/plain": [
       "<keras.callbacks.History at 0x152d3410dc30>"
      ]
     },
     "execution_count": 9,
     "metadata": {},
     "output_type": "execute_result"
    }
   ],
   "source": [
    "epochs = 30\n",
    "model.fit(\n",
    "    train_dataset_brainLoss,\n",
    "    validation_data=test_dataset_brainLoss,\n",
    "    epochs=epochs,\n",
    "    shuffle=True,\n",
    "    verbose=1,\n",
    "    callbacks=[checkpoint_cb, early_stopping_cb],\n",
    ")"
   ]
  },
  {
   "cell_type": "code",
   "execution_count": 10,
   "id": "a3d3ac71-c929-4107-8bf8-212f57dff238",
   "metadata": {},
   "outputs": [
    {
     "data": {
      "image/png": "[encoded data removed]",
      "text/plain": [
       "<Figure size 1440x216 with 2 Axes>"
      ]
     },
     "metadata": {
      "needs_background": "light"
     },
     "output_type": "display_data"
    }
   ],
   "source": [
    "fig, ax = plt.subplots(1, 2, figsize=(20, 3))\n",
    "ax = ax.ravel()\n",
    "\n",
    "for i, metric in enumerate([\"acc\", \"loss\"]):\n",
    "    ax[i].plot(model.history.history[metric])\n",
    "    ax[i].plot(model.history.history[\"val_\" + metric])\n",
    "    ax[i].set_title(\"Model {}\".format(metric))\n",
    "    ax[i].set_xlabel(\"epochs\")\n",
    "    ax[i].set_ylabel(metric)\n",
    "    ax[i].legend([\"train\", \"val\"])"
   ]
  },
  {
   "cell_type": "markdown",
   "id": "1e86a2cd-a745-4ae1-8fd5-695e28714f40",
   "metadata": {},
   "source": [
    "### Predictions"
   ]
  },
  {
   "cell_type": "code",
   "execution_count": 4,
   "id": "3cd9975b-bcda-4c6e-914c-ff8536309837",
   "metadata": {},
   "outputs": [
    {
     "name": "stderr",
     "output_type": "stream",
     "text": [
      "2022-04-10 15:26:43.856115: I tensorflow/core/platform/cpu_feature_guard.cc:151] This TensorFlow binary is optimized with oneAPI Deep Neural Network Library (oneDNN) to use the following CPU instructions in performance-critical operations:  SSE4.1 SSE4.2 AVX AVX2 AVX512F FMA\n",
      "To enable them in other operations, rebuild TensorFlow with the appropriate compiler flags.\n",
      "2022-04-10 15:26:44.453248: I tensorflow/core/common_runtime/gpu/gpu_device.cc:1525] Created device /job:localhost/replica:0/task:0/device:GPU:0 with 30942 MB memory:  -> device: 0, name: Tesla V100-PCIE-32GB, pci bus id: 0000:3b:00.0, compute capability: 7.0\n"
     ]
    }
   ],
   "source": [
    "# Load saved model & weights\n",
    "model = keras.models.load_model('3d_brainLoss_class32_1.h5')\n",
    "model.load_weights(\"3d_brainLoss_class32_1.h5\")"
   ]
  },
  {
   "cell_type": "code",
   "execution_count": 5,
   "id": "901a884b-f4e8-416a-b384-2f81d92b8f1c",
   "metadata": {},
   "outputs": [
    {
     "name": "stderr",
     "output_type": "stream",
     "text": [
      "2022-04-10 15:26:53.346051: I tensorflow/stream_executor/cuda/cuda_dnn.cc:366] Loaded cuDNN version 8201\n",
      "2022-04-10 15:26:53.832123: I tensorflow/core/platform/default/subprocess.cc:304] Start cannot spawn child process: No such file or directory\n",
      "2022-04-10 15:26:53.832542: I tensorflow/core/platform/default/subprocess.cc:304] Start cannot spawn child process: No such file or directory\n",
      "2022-04-10 15:26:53.832553: W tensorflow/stream_executor/gpu/asm_compiler.cc:80] Couldn't get ptxas version string: INTERNAL: Couldn't invoke ptxas --version\n",
      "2022-04-10 15:26:53.832877: I tensorflow/core/platform/default/subprocess.cc:304] Start cannot spawn child process: No such file or directory\n",
      "2022-04-10 15:26:53.832917: W tensorflow/stream_executor/gpu/redzone_allocator.cc:314] INTERNAL: Failed to launch ptxas\n",
      "Relying on driver to perform ptx compilation. \n",
      "Modify $PATH to customize ptxas location.\n",
      "This message will be only logged once.\n"
     ]
    },
    {
     "data": {
      "text/plain": [
       "array([0.10984811], dtype=float32)"
      ]
     },
     "execution_count": 5,
     "metadata": {},
     "output_type": "execute_result"
    }
   ],
   "source": [
    "model.predict(np.expand_dims(X_test_brainLoss[0], axis=0))[0]"
   ]
  },
  {
   "cell_type": "code",
   "execution_count": 6,
   "id": "94a1025a-4b36-484d-ab3d-4457d0ee5655",
   "metadata": {},
   "outputs": [],
   "source": [
    "y_preds_brainLoss = []\n",
    "for i in range(len(X_test_brainLoss)):\n",
    "    if model.predict(np.expand_dims(X_test_brainLoss[i],axis=0))[0] < 0.5:\n",
    "        y_preds_brainLoss.append(0)\n",
    "    else:\n",
    "        y_preds_brainLoss.append(1)"
   ]
  },
  {
   "cell_type": "code",
   "execution_count": 7,
   "id": "4c012896-46b3-4984-98cb-cac4cd1a3120",
   "metadata": {},
   "outputs": [],
   "source": [
    "#confusion_matrix[y_test_brainLoss, y_preds_brainLoss]\n",
    "tp = 0\n",
    "tn = 0\n",
    "fp = 0\n",
    "fn = 0\n",
    "for i in range(len(y_test_brainLoss)):\n",
    "    if y_preds_brainLoss[i] == 0 and y_test_brainLoss[i] == 0:\n",
    "        tp = tp+1\n",
    "    elif y_preds_brainLoss[i] == 1 and y_test_brainLoss[i] == 1:\n",
    "        tn = tn+1\n",
    "    elif y_preds_brainLoss[i] == 0 and y_test_brainLoss[i] == 1:\n",
    "        fp = fp+1\n",
    "    elif y_preds_brainLoss[i] == 1 and y_test_brainLoss[i] == 0:\n",
    "        fn = fn+1"
   ]
  },
  {
   "cell_type": "code",
   "execution_count": 8,
   "id": "d1210ef4-725c-47e4-adb0-e30955275219",
   "metadata": {},
   "outputs": [
    {
     "name": "stdout",
     "output_type": "stream",
     "text": [
      "     0    1\n",
      "0  145    4\n",
      "1    0  244\n"
     ]
    }
   ],
   "source": [
    "conf_matrix = np.array([[tp,fp], \n",
    "               [fn,tn]])\n",
    "print(pd.DataFrame(conf_matrix))"
   ]
  },
  {
   "cell_type": "code",
   "execution_count": 11,
   "id": "d7363795-8daf-41d5-a630-f19cbdef4eed",
   "metadata": {},
   "outputs": [
    {
     "name": "stdout",
     "output_type": "stream",
     "text": [
      " f1: 0.9863945578231292 \n",
      " Precision: 0.9731543624161074 \n",
      " Recall: 1.0\n"
     ]
    }
   ],
   "source": [
    "recall = tp/(tp+fn)\n",
    "precision = tp/(tp+fp)\n",
    "f1 = 2*(precision*recall/(precision+recall))\n",
    "print(' f1:',f1,'\\n','Precision:',precision,'\\n','Recall:',recall)"
   ]
  },
  {
   "cell_type": "code",
   "execution_count": 13,
   "id": "cb45b0ce-fe58-4f2d-9566-f73a229b5048",
   "metadata": {},
   "outputs": [
    {
     "name": "stdout",
     "output_type": "stream",
     "text": [
      "This model is 89.02 percent confident that the CT scan underwent no brain feature loss\n",
      "This model is 10.98 percent confident that the CT scan underwent brain feature loss\n"
     ]
    }
   ],
   "source": [
    "prediction = model.predict(np.expand_dims(X_test_brainLoss[0], axis=0))[0]\n",
    "scores = [1 - prediction[0], prediction[0]]\n",
    "\n",
    "class_names = [\"no brain feature loss\", \"brain feature loss\"] \n",
    "for score, name in zip(scores, class_names):\n",
    "    print(\n",
    "        \"This model is %.2f percent confident that the CT scan underwent %s\"\n",
    "        % ((100 * score), name)\n",
    "    )"
   ]
  },
  {
   "cell_type": "code",
   "execution_count": null,
   "id": "0cff289c-b870-4bbd-9cd5-4fd57e945b48",
   "metadata": {},
   "outputs": [],
   "source": []
  }
 ],
 "metadata": {
  "kernelspec": {
   "display_name": "TensorflowGPU2.7",
   "language": "python",
   "name": "tf_gpu_test"
  },
  "language_info": {
   "codemirror_mode": {
    "name": "ipython",
    "version": 3
   },
   "file_extension": ".py",
   "mimetype": "text/x-python",
   "name": "python",
   "nbconvert_exporter": "python",
   "pygments_lexer": "ipython3",
   "version": "3.10.4"
  }
 },
 "nbformat": 4,
 "nbformat_minor": 5
}
